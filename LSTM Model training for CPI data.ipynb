{
 "cells": [
  {
   "cell_type": "code",
   "execution_count": 1,
   "id": "4fb0ecc7",
   "metadata": {},
   "outputs": [],
   "source": [
    "import stats_can\n",
    "import pandas as pd\n",
    "import numpy as np\n",
    "import matplotlib.pyplot as plt\n",
    "import seaborn as sns\n",
    "from datetime import datetime\n",
    "import tensorflow as tf\n",
    "from keras import Sequential\n",
    "from keras.layers import LSTM, Dense, Dropout\n",
    "from keras.callbacks import ModelCheckpoint, EarlyStopping"
   ]
  },
  {
   "cell_type": "code",
   "execution_count": 2,
   "id": "559a2a2f",
   "metadata": {},
   "outputs": [],
   "source": [
    "df=stats_can.sc.table_to_df('18-10-0004-01')"
   ]
  },
  {
   "cell_type": "code",
   "execution_count": 3,
   "id": "0ff10e0d",
   "metadata": {},
   "outputs": [],
   "source": [
    "df=df[(df['UOM']=='2002=100')&(df['GEO']=='Canada')&(df['Products and product groups']=='All-items')]"
   ]
  },
  {
   "cell_type": "code",
   "execution_count": 4,
   "id": "005f7523",
   "metadata": {},
   "outputs": [],
   "source": [
    "df=df.iloc[:,[0,1,3,4,10]]"
   ]
  },
  {
   "cell_type": "code",
   "execution_count": 5,
   "id": "b98acb37",
   "metadata": {},
   "outputs": [],
   "source": [
    "value=df['VALUE'].values.astype('float64')"
   ]
  },
  {
   "cell_type": "code",
   "execution_count": 6,
   "id": "a53da802",
   "metadata": {},
   "outputs": [],
   "source": [
    "X=[]\n",
    "Y=[]\n",
    "n_for_predict=3\n",
    "for i in range(n_for_predict, len(value)):\n",
    "    X.append(value[i-n_for_predict:i])\n",
    "    Y.append(value[i:i+1])\n",
    "X=np.array(X)\n",
    "Y=np.array(Y)"
   ]
  },
  {
   "cell_type": "code",
   "execution_count": 7,
   "id": "c7b068c0",
   "metadata": {},
   "outputs": [],
   "source": [
    "train_size=int(len(X)*0.7)\n",
    "test_size = len(X) - train_size\n",
    "\n",
    "X_train=X[0:train_size]\n",
    "X_test=X[train_size:len(X)]\n",
    "Y_train=Y[0:train_size]\n",
    "Y_test=Y[train_size:len(X)]"
   ]
  },
  {
   "cell_type": "code",
   "execution_count": 8,
   "id": "409d7841",
   "metadata": {},
   "outputs": [],
   "source": [
    "X_train = np.reshape(X_train, (X_train.shape[0], 1, X_train.shape[1]))\n",
    "X_test = np.reshape(X_test, (X_test.shape[0], 1, X_test.shape[1]))"
   ]
  },
  {
   "cell_type": "code",
   "execution_count": 9,
   "id": "24a1d7a9",
   "metadata": {},
   "outputs": [],
   "source": [
    "early_stopping=EarlyStopping(monitor='val_loss', patience=20, verbose=0, mode='min')\n",
    "model_checkpoint=ModelCheckpoint('model.hdf5', save_best_only=True, monitor='val_loss', mode='min')"
   ]
  },
  {
   "cell_type": "code",
   "execution_count": 10,
   "id": "140ebd63",
   "metadata": {},
   "outputs": [],
   "source": [
    "model=Sequential()\n",
    "model.add(LSTM(16, input_shape=(1, n_for_predict), return_sequences=True, activation='relu'))\n",
    "model.add(LSTM(8, return_sequences=True, activation='relu'))\n",
    "model.add(Dense(4, activation='relu'))\n",
    "model.add(Dense(1, activation='relu'))\n",
    "model.compile(loss='mse', optimizer=tf.keras.optimizers.Adam(0.001))"
   ]
  },
  {
   "cell_type": "code",
   "execution_count": 11,
   "id": "b2fb1307",
   "metadata": {},
   "outputs": [
    {
     "name": "stdout",
     "output_type": "stream",
     "text": [
      "Epoch 1/50\n",
      "29/29 [==============================] - 4s 22ms/step - loss: 742.3463 - val_loss: 12384.4971\n",
      "Epoch 2/50\n",
      "29/29 [==============================] - 0s 5ms/step - loss: 711.2886 - val_loss: 10680.1670\n",
      "Epoch 3/50\n",
      "29/29 [==============================] - 0s 6ms/step - loss: 545.5927 - val_loss: 5267.9419\n",
      "Epoch 4/50\n",
      "29/29 [==============================] - 0s 6ms/step - loss: 85.3301 - val_loss: 271.4156\n",
      "Epoch 5/50\n",
      "29/29 [==============================] - 0s 7ms/step - loss: 3.5382 - val_loss: 0.5942\n",
      "Epoch 6/50\n",
      "29/29 [==============================] - 0s 6ms/step - loss: 0.8359 - val_loss: 1.5454\n",
      "Epoch 7/50\n",
      "29/29 [==============================] - 0s 9ms/step - loss: 0.3980 - val_loss: 0.4260\n",
      "Epoch 8/50\n",
      "29/29 [==============================] - 0s 10ms/step - loss: 0.2029 - val_loss: 0.3379\n",
      "Epoch 9/50\n",
      "29/29 [==============================] - 0s 11ms/step - loss: 0.1165 - val_loss: 0.3332\n",
      "Epoch 10/50\n",
      "29/29 [==============================] - 0s 13ms/step - loss: 0.0804 - val_loss: 0.3285\n",
      "Epoch 11/50\n",
      "29/29 [==============================] - 0s 10ms/step - loss: 0.0622 - val_loss: 0.3823\n",
      "Epoch 12/50\n",
      "29/29 [==============================] - 0s 9ms/step - loss: 0.0524 - val_loss: 0.4355\n",
      "Epoch 13/50\n",
      "29/29 [==============================] - 0s 8ms/step - loss: 0.0467 - val_loss: 0.4863\n",
      "Epoch 14/50\n",
      "29/29 [==============================] - 0s 8ms/step - loss: 0.0431 - val_loss: 0.5108\n",
      "Epoch 15/50\n",
      "29/29 [==============================] - 0s 10ms/step - loss: 0.0410 - val_loss: 0.5676\n",
      "Epoch 16/50\n",
      "29/29 [==============================] - 0s 10ms/step - loss: 0.0394 - val_loss: 0.5353\n",
      "Epoch 17/50\n",
      "29/29 [==============================] - 0s 11ms/step - loss: 0.0387 - val_loss: 0.5405\n",
      "Epoch 18/50\n",
      "29/29 [==============================] - 0s 10ms/step - loss: 0.0381 - val_loss: 0.6139\n",
      "Epoch 19/50\n",
      "29/29 [==============================] - 0s 9ms/step - loss: 0.0368 - val_loss: 0.5487\n",
      "Epoch 20/50\n",
      "29/29 [==============================] - 0s 8ms/step - loss: 0.0367 - val_loss: 0.5916\n",
      "Epoch 21/50\n",
      "29/29 [==============================] - 0s 8ms/step - loss: 0.0363 - val_loss: 0.6235\n",
      "Epoch 22/50\n",
      "29/29 [==============================] - 0s 9ms/step - loss: 0.0355 - val_loss: 0.5010\n",
      "Epoch 23/50\n",
      "29/29 [==============================] - 0s 9ms/step - loss: 0.0358 - val_loss: 0.5287\n",
      "Epoch 24/50\n",
      "29/29 [==============================] - 0s 8ms/step - loss: 0.0355 - val_loss: 0.4543\n",
      "Epoch 25/50\n",
      "29/29 [==============================] - 0s 8ms/step - loss: 0.0351 - val_loss: 0.6487\n",
      "Epoch 26/50\n",
      "29/29 [==============================] - 0s 9ms/step - loss: 0.0346 - val_loss: 0.5872\n",
      "Epoch 27/50\n",
      "29/29 [==============================] - 0s 9ms/step - loss: 0.0343 - val_loss: 0.5734\n",
      "Epoch 28/50\n",
      "29/29 [==============================] - 0s 8ms/step - loss: 0.0341 - val_loss: 0.4250\n",
      "Epoch 29/50\n",
      "29/29 [==============================] - 0s 8ms/step - loss: 0.0337 - val_loss: 0.5319\n",
      "Epoch 30/50\n",
      "29/29 [==============================] - 0s 8ms/step - loss: 0.0333 - val_loss: 0.5740\n"
     ]
    }
   ],
   "source": [
    "history=model.fit(X_train, Y_train, epochs=50, validation_data=(X_test, Y_test), callbacks=[early_stopping, model_checkpoint])"
   ]
  },
  {
   "cell_type": "code",
   "execution_count": 12,
   "id": "ca15cad1",
   "metadata": {},
   "outputs": [
    {
     "data": {
      "text/plain": [
       "0.5739732980728149"
      ]
     },
     "execution_count": 12,
     "metadata": {},
     "output_type": "execute_result"
    }
   ],
   "source": [
    "model.evaluate(X_test, Y_test, verbose=0)"
   ]
  },
  {
   "cell_type": "code",
   "execution_count": 13,
   "id": "a976469a",
   "metadata": {},
   "outputs": [
    {
     "data": {
      "image/png": "[encoded data removed]",
      "text/plain": [
       "<Figure size 640x480 with 1 Axes>"
      ]
     },
     "metadata": {},
     "output_type": "display_data"
    }
   ],
   "source": [
    "fig = plt.figure()\n",
    "plt.plot(history.history['loss'], label='loss')\n",
    "plt.plot(history.history['val_loss'], label='val_loss')\n",
    "plt.xlabel('Epoch')\n",
    "plt.ylabel('Error [CPI]')\n",
    "plt.legend()\n",
    "plt.grid(True)\n",
    "plt.show()"
   ]
  },
  {
   "cell_type": "code",
   "execution_count": 14,
   "id": "a0339d64",
   "metadata": {},
   "outputs": [
    {
     "name": "stdout",
     "output_type": "stream",
     "text": [
      "29/29 [==============================] - 1s 3ms/step\n",
      "13/13 [==============================] - 0s 3ms/step\n"
     ]
    }
   ],
   "source": [
    "train_predict=model.predict(X_train).flatten()\n",
    "test_predict=model.predict(X_test).flatten()"
   ]
  },
  {
   "cell_type": "code",
   "execution_count": 15,
   "id": "c0a3c779",
   "metadata": {},
   "outputs": [],
   "source": [
    "trainPredictPlot = np.empty_like(value)\n",
    "trainPredictPlot[:] = np.nan\n",
    "trainPredictPlot[n_for_predict:len(train_predict)+n_for_predict] = train_predict\n",
    "testPredictPlot = np.empty_like(value)\n",
    "testPredictPlot[:] = np.nan\n",
    "testPredictPlot[len(train_predict)+n_for_predict:len(value)] = test_predict"
   ]
  },
  {
   "cell_type": "code",
   "execution_count": 16,
   "id": "223ef126",
   "metadata": {},
   "outputs": [
    {
     "data": {
      "image/png": "[encoded data removed]",
      "text/plain": [
       "<Figure size 640x480 with 1 Axes>"
      ]
     },
     "metadata": {},
     "output_type": "display_data"
    }
   ],
   "source": [
    "fig = plt.figure()\n",
    "plt.plot(Y)\n",
    "plt.plot(trainPredictPlot)\n",
    "plt.plot(testPredictPlot)\n",
    "plt.show()"
   ]
  },
  {
   "cell_type": "code",
   "execution_count": 17,
   "id": "2fff640d",
   "metadata": {},
   "outputs": [],
   "source": [
    "num_month_prediction=24\n",
    "predict_period_dates = pd.date_range(start='2023-02-01', periods=num_month_prediction, freq='MS')"
   ]
  },
  {
   "cell_type": "code",
   "execution_count": 18,
   "id": "db45f624",
   "metadata": {},
   "outputs": [
    {
     "name": "stdout",
     "output_type": "stream",
     "text": [
      "1/1 [==============================] - 0s 46ms/step\n",
      "1/1 [==============================] - 0s 43ms/step\n",
      "1/1 [==============================] - 0s 39ms/step\n",
      "1/1 [==============================] - 0s 36ms/step\n",
      "1/1 [==============================] - 0s 33ms/step\n",
      "1/1 [==============================] - 0s 37ms/step\n",
      "1/1 [==============================] - 0s 32ms/step\n",
      "1/1 [==============================] - 0s 29ms/step\n",
      "1/1 [==============================] - 0s 28ms/step\n",
      "1/1 [==============================] - 0s 28ms/step\n",
      "1/1 [==============================] - 0s 29ms/step\n",
      "1/1 [==============================] - 0s 29ms/step\n",
      "1/1 [==============================] - 0s 27ms/step\n",
      "1/1 [==============================] - 0s 32ms/step\n",
      "1/1 [==============================] - 0s 32ms/step\n",
      "1/1 [==============================] - 0s 38ms/step\n",
      "1/1 [==============================] - 0s 28ms/step\n",
      "1/1 [==============================] - 0s 28ms/step\n",
      "1/1 [==============================] - 0s 29ms/step\n",
      "1/1 [==============================] - 0s 29ms/step\n",
      "1/1 [==============================] - 0s 32ms/step\n",
      "1/1 [==============================] - 0s 34ms/step\n",
      "1/1 [==============================] - 0s 32ms/step\n",
      "1/1 [==============================] - 0s 31ms/step\n"
     ]
    }
   ],
   "source": [
    "prediction_list = value[-n_for_predict:]\n",
    "for _ in range(num_month_prediction):\n",
    "    x = prediction_list[-n_for_predict:]\n",
    "    x = x.reshape((1, 1, n_for_predict))\n",
    "    pred = model.predict(x)[0][0]\n",
    "    prediction_list = np.append(prediction_list, pred)\n",
    "prediction_list=prediction_list[n_for_predict:]"
   ]
  },
  {
   "cell_type": "code",
   "execution_count": 19,
   "id": "83b8226c",
   "metadata": {},
   "outputs": [],
   "source": [
    "pred_result=pd.DataFrame(zip(predict_period_dates, prediction_list), columns=['Dates', 'Prediction'])"
   ]
  },
  {
   "cell_type": "code",
   "execution_count": 20,
   "id": "cdf52eef",
   "metadata": {},
   "outputs": [],
   "source": [
    "start_date=pd.to_datetime('2000-01-01')\n",
    "end_date=pd.to_datetime('2026-02-01')"
   ]
  },
  {
   "cell_type": "code",
   "execution_count": 21,
   "id": "737ab09c",
   "metadata": {},
   "outputs": [
    {
     "data": {
      "text/plain": [
       "(10957.0, 20485.0)"
      ]
     },
     "execution_count": 21,
     "metadata": {},
     "output_type": "execute_result"
    },
    {
     "data": {
      "image/png": "[encoded data removed]",
      "text/plain": [
       "<Figure size 640x480 with 1 Axes>"
      ]
     },
     "metadata": {},
     "output_type": "display_data"
    }
   ],
   "source": [
    "fig = plt.figure()\n",
    "plt.plot(df['REF_DATE'], df['VALUE'])\n",
    "plt.plot(pred_result['Dates'], pred_result['Prediction'])\n",
    "plt.xlim(start_date, end_date)"
   ]
  },
  {
   "cell_type": "code",
   "execution_count": null,
   "id": "14a238a7",
   "metadata": {},
   "outputs": [],
   "source": []
  }
 ],
 "metadata": {
  "kernelspec": {
   "display_name": "Python 3 (ipykernel)",
   "language": "python",
   "name": "python3"
  },
  "language_info": {
   "codemirror_mode": {
    "name": "ipython",
    "version": 3
   },
   "file_extension": ".py",
   "mimetype": "text/x-python",
   "name": "python",
   "nbconvert_exporter": "python",
   "pygments_lexer": "ipython3",
   "version": "3.9.16"
  }
 },
 "nbformat": 4,
 "nbformat_minor": 5
}
