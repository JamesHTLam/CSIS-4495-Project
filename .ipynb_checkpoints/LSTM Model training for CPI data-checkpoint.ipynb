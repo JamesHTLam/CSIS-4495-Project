{
 "cells": [
  {
   "cell_type": "code",
   "execution_count": null,
   "id": "8b8990de",
   "metadata": {},
   "outputs": [],
   "source": [
    "import stats_can"
   ]
  },
  {
   "cell_type": "code",
   "execution_count": null,
   "id": "ea0fa164",
   "metadata": {},
   "outputs": [],
   "source": [
    "df=stats_can.sc.table_to_df('18-10-0004-01')"
   ]
  },
  {
   "cell_type": "code",
   "execution_count": null,
   "id": "4fd32a0f",
   "metadata": {},
   "outputs": [],
   "source": [
    "df=df[(df['UOM']=='2002=100')&(df['GEO']=='Canada')&(df['Products and product groups']=='All-items')]"
   ]
  }
 ],
 "metadata": {
  "kernelspec": {
   "display_name": "Python 3 (ipykernel)",
   "language": "python",
   "name": "python3"
  },
  "language_info": {
   "codemirror_mode": {
    "name": "ipython",
    "version": 3
   },
   "file_extension": ".py",
   "mimetype": "text/x-python",
   "name": "python",
   "nbconvert_exporter": "python",
   "pygments_lexer": "ipython3",
   "version": "3.9.16"
  }
 },
 "nbformat": 4,
 "nbformat_minor": 5
}
